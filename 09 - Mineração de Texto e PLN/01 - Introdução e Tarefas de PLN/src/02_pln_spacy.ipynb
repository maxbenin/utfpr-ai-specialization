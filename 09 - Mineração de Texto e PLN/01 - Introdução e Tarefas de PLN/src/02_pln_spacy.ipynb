{
  "nbformat": 4,
  "nbformat_minor": 0,
  "metadata": {
    "colab": {
      "provenance": []
    },
    "kernelspec": {
      "name": "python3",
      "display_name": "Python 3"
    },
    "language_info": {
      "name": "python"
    }
  },
  "cells": [
    {
      "cell_type": "markdown",
      "source": [
        "Para iniciar com o Spacy no ambiente do colab é necessário atualizar a biblioteca e fazer o download do pacote pt_core_news_sm. Esse pacote inclui o modelo de linguagem utilizado pelo Spacy especificamente para língua portuguesa. Esse pacote é uma versão simplificada da linguagem e o website do Spacy disponibiliza modelos de linguagem mais elaborados, dependendo dos requisitos de cada projeto.\n",
        "\n"
      ],
      "metadata": {
        "id": "OpYifeRsiyZP"
      }
    },
    {
      "cell_type": "code",
      "source": [
        "!pip install --upgrade spacy\n",
        "!python -m spacy download pt_core_news_sm"
      ],
      "metadata": {
        "id": "SOVUmjt0islL",
        "colab": {
          "base_uri": "https://localhost:8080/"
        },
        "outputId": "c095dd1c-753c-4a73-92d1-a0f0a79f8d8a"
      },
      "execution_count": 1,
      "outputs": [
        {
          "output_type": "stream",
          "name": "stdout",
          "text": [
            "Requirement already satisfied: spacy in /usr/local/lib/python3.12/dist-packages (3.8.7)\n",
            "Requirement already satisfied: spacy-legacy<3.1.0,>=3.0.11 in /usr/local/lib/python3.12/dist-packages (from spacy) (3.0.12)\n",
            "Requirement already satisfied: spacy-loggers<2.0.0,>=1.0.0 in /usr/local/lib/python3.12/dist-packages (from spacy) (1.0.5)\n",
            "Requirement already satisfied: murmurhash<1.1.0,>=0.28.0 in /usr/local/lib/python3.12/dist-packages (from spacy) (1.0.13)\n",
            "Requirement already satisfied: cymem<2.1.0,>=2.0.2 in /usr/local/lib/python3.12/dist-packages (from spacy) (2.0.11)\n",
            "Requirement already satisfied: preshed<3.1.0,>=3.0.2 in /usr/local/lib/python3.12/dist-packages (from spacy) (3.0.10)\n",
            "Requirement already satisfied: thinc<8.4.0,>=8.3.4 in /usr/local/lib/python3.12/dist-packages (from spacy) (8.3.6)\n",
            "Requirement already satisfied: wasabi<1.2.0,>=0.9.1 in /usr/local/lib/python3.12/dist-packages (from spacy) (1.1.3)\n",
            "Requirement already satisfied: srsly<3.0.0,>=2.4.3 in /usr/local/lib/python3.12/dist-packages (from spacy) (2.5.1)\n",
            "Requirement already satisfied: catalogue<2.1.0,>=2.0.6 in /usr/local/lib/python3.12/dist-packages (from spacy) (2.0.10)\n",
            "Requirement already satisfied: weasel<0.5.0,>=0.1.0 in /usr/local/lib/python3.12/dist-packages (from spacy) (0.4.1)\n",
            "Requirement already satisfied: typer<1.0.0,>=0.3.0 in /usr/local/lib/python3.12/dist-packages (from spacy) (0.20.0)\n",
            "Requirement already satisfied: tqdm<5.0.0,>=4.38.0 in /usr/local/lib/python3.12/dist-packages (from spacy) (4.67.1)\n",
            "Requirement already satisfied: numpy>=1.19.0 in /usr/local/lib/python3.12/dist-packages (from spacy) (2.0.2)\n",
            "Requirement already satisfied: requests<3.0.0,>=2.13.0 in /usr/local/lib/python3.12/dist-packages (from spacy) (2.32.4)\n",
            "Requirement already satisfied: pydantic!=1.8,!=1.8.1,<3.0.0,>=1.7.4 in /usr/local/lib/python3.12/dist-packages (from spacy) (2.11.10)\n",
            "Requirement already satisfied: jinja2 in /usr/local/lib/python3.12/dist-packages (from spacy) (3.1.6)\n",
            "Requirement already satisfied: setuptools in /usr/local/lib/python3.12/dist-packages (from spacy) (75.2.0)\n",
            "Requirement already satisfied: packaging>=20.0 in /usr/local/lib/python3.12/dist-packages (from spacy) (25.0)\n",
            "Requirement already satisfied: langcodes<4.0.0,>=3.2.0 in /usr/local/lib/python3.12/dist-packages (from spacy) (3.5.0)\n",
            "Requirement already satisfied: language-data>=1.2 in /usr/local/lib/python3.12/dist-packages (from langcodes<4.0.0,>=3.2.0->spacy) (1.3.0)\n",
            "Requirement already satisfied: annotated-types>=0.6.0 in /usr/local/lib/python3.12/dist-packages (from pydantic!=1.8,!=1.8.1,<3.0.0,>=1.7.4->spacy) (0.7.0)\n",
            "Requirement already satisfied: pydantic-core==2.33.2 in /usr/local/lib/python3.12/dist-packages (from pydantic!=1.8,!=1.8.1,<3.0.0,>=1.7.4->spacy) (2.33.2)\n",
            "Requirement already satisfied: typing-extensions>=4.12.2 in /usr/local/lib/python3.12/dist-packages (from pydantic!=1.8,!=1.8.1,<3.0.0,>=1.7.4->spacy) (4.15.0)\n",
            "Requirement already satisfied: typing-inspection>=0.4.0 in /usr/local/lib/python3.12/dist-packages (from pydantic!=1.8,!=1.8.1,<3.0.0,>=1.7.4->spacy) (0.4.2)\n",
            "Requirement already satisfied: charset_normalizer<4,>=2 in /usr/local/lib/python3.12/dist-packages (from requests<3.0.0,>=2.13.0->spacy) (3.4.4)\n",
            "Requirement already satisfied: idna<4,>=2.5 in /usr/local/lib/python3.12/dist-packages (from requests<3.0.0,>=2.13.0->spacy) (3.11)\n",
            "Requirement already satisfied: urllib3<3,>=1.21.1 in /usr/local/lib/python3.12/dist-packages (from requests<3.0.0,>=2.13.0->spacy) (2.5.0)\n",
            "Requirement already satisfied: certifi>=2017.4.17 in /usr/local/lib/python3.12/dist-packages (from requests<3.0.0,>=2.13.0->spacy) (2025.10.5)\n",
            "Requirement already satisfied: blis<1.4.0,>=1.3.0 in /usr/local/lib/python3.12/dist-packages (from thinc<8.4.0,>=8.3.4->spacy) (1.3.0)\n",
            "Requirement already satisfied: confection<1.0.0,>=0.0.1 in /usr/local/lib/python3.12/dist-packages (from thinc<8.4.0,>=8.3.4->spacy) (0.1.5)\n",
            "Requirement already satisfied: click>=8.0.0 in /usr/local/lib/python3.12/dist-packages (from typer<1.0.0,>=0.3.0->spacy) (8.3.0)\n",
            "Requirement already satisfied: shellingham>=1.3.0 in /usr/local/lib/python3.12/dist-packages (from typer<1.0.0,>=0.3.0->spacy) (1.5.4)\n",
            "Requirement already satisfied: rich>=10.11.0 in /usr/local/lib/python3.12/dist-packages (from typer<1.0.0,>=0.3.0->spacy) (13.9.4)\n",
            "Requirement already satisfied: cloudpathlib<1.0.0,>=0.7.0 in /usr/local/lib/python3.12/dist-packages (from weasel<0.5.0,>=0.1.0->spacy) (0.23.0)\n",
            "Requirement already satisfied: smart-open<8.0.0,>=5.2.1 in /usr/local/lib/python3.12/dist-packages (from weasel<0.5.0,>=0.1.0->spacy) (7.4.0)\n",
            "Requirement already satisfied: MarkupSafe>=2.0 in /usr/local/lib/python3.12/dist-packages (from jinja2->spacy) (3.0.3)\n",
            "Requirement already satisfied: marisa-trie>=1.1.0 in /usr/local/lib/python3.12/dist-packages (from language-data>=1.2->langcodes<4.0.0,>=3.2.0->spacy) (1.3.1)\n",
            "Requirement already satisfied: markdown-it-py>=2.2.0 in /usr/local/lib/python3.12/dist-packages (from rich>=10.11.0->typer<1.0.0,>=0.3.0->spacy) (4.0.0)\n",
            "Requirement already satisfied: pygments<3.0.0,>=2.13.0 in /usr/local/lib/python3.12/dist-packages (from rich>=10.11.0->typer<1.0.0,>=0.3.0->spacy) (2.19.2)\n",
            "Requirement already satisfied: wrapt in /usr/local/lib/python3.12/dist-packages (from smart-open<8.0.0,>=5.2.1->weasel<0.5.0,>=0.1.0->spacy) (2.0.0)\n",
            "Requirement already satisfied: mdurl~=0.1 in /usr/local/lib/python3.12/dist-packages (from markdown-it-py>=2.2.0->rich>=10.11.0->typer<1.0.0,>=0.3.0->spacy) (0.1.2)\n",
            "Collecting pt-core-news-sm==3.8.0\n",
            "  Downloading https://github.com/explosion/spacy-models/releases/download/pt_core_news_sm-3.8.0/pt_core_news_sm-3.8.0-py3-none-any.whl (13.0 MB)\n",
            "\u001b[2K     \u001b[90m━━━━━━━━━━━━━━━━━━━━━━━━━━━━━━━━━━━━━━━━\u001b[0m \u001b[32m13.0/13.0 MB\u001b[0m \u001b[31m48.1 MB/s\u001b[0m eta \u001b[36m0:00:00\u001b[0m\n",
            "\u001b[?25hInstalling collected packages: pt-core-news-sm\n",
            "Successfully installed pt-core-news-sm-3.8.0\n",
            "\u001b[38;5;2m✔ Download and installation successful\u001b[0m\n",
            "You can now load the package via spacy.load('pt_core_news_sm')\n",
            "\u001b[38;5;3m⚠ Restart to reload dependencies\u001b[0m\n",
            "If you are in a Jupyter or Colab notebook, you may need to restart Python in\n",
            "order to load all the package's dependencies. You can do this by selecting the\n",
            "'Restart kernel' or 'Restart runtime' option.\n"
          ]
        }
      ]
    },
    {
      "cell_type": "markdown",
      "source": [
        "Importar o objeto principal do Spacy."
      ],
      "metadata": {
        "id": "QGI7biPFd9wV"
      }
    },
    {
      "cell_type": "code",
      "execution_count": null,
      "metadata": {
        "id": "2FjJ1biydx9q"
      },
      "outputs": [],
      "source": [
        "import spacy"
      ]
    },
    {
      "cell_type": "markdown",
      "source": [
        "Gerar o objeto PLN a partir do objeto Spacy.\n",
        "Nessa etapa, nós definimos o idioma e os modelos de linguagem que devem ser importados.\n",
        "\n",
        "Para trabalhar com o Português, utilizamos o modelo pt_core_news_sm.\n"
      ],
      "metadata": {
        "id": "asaM6nG5eIGn"
      }
    },
    {
      "cell_type": "code",
      "source": [
        "pln = spacy.load(\"pt_core_news_sm\")"
      ],
      "metadata": {
        "id": "Zm4BOkCKehbH"
      },
      "execution_count": null,
      "outputs": []
    },
    {
      "cell_type": "markdown",
      "source": [
        "O objeto pln gerado implementa uma API de acesso a diversas funcionalidades do Spacy.\n",
        "\n",
        "No código apresentado a seguir, vocês devem observar que o objeto pln trata-se de um objeto com a propriedade callable. Ao chamar esse objeto, passando como parâmetro um texto, é retornado um objeto de tipo Documento, com diferentes propriedades associadas à estrutura do Texto, geradas pelo Spacy."
      ],
      "metadata": {
        "id": "H2krvF-IkaSD"
      }
    },
    {
      "cell_type": "code",
      "source": [
        "doc = pln(\"Agora, nós estamos no começo da disciplina de PLN e Mineração de Texto.\")"
      ],
      "metadata": {
        "id": "5LizsSYTkZhv"
      },
      "execution_count": null,
      "outputs": []
    },
    {
      "cell_type": "markdown",
      "source": [
        "# Tokenização\n",
        "\n",
        "Entre as propriedades desse objeto tipo Documento, pode ser utilizada a funcionalidade de extração de tokens da frase.\n"
      ],
      "metadata": {
        "id": "qHNmyHXmm7Lc"
      }
    },
    {
      "cell_type": "code",
      "source": [
        "for token in doc:\n",
        "  print(f'{token.text:20}\\t {token.tag_:4}\\t {token.lemma_:20}\\t {token.is_stop}')"
      ],
      "metadata": {
        "colab": {
          "base_uri": "https://localhost:8080/"
        },
        "id": "QZCoZ52EnIq8",
        "outputId": "eea76a88-9c3b-4fe2-b7e1-9d33b506086a"
      },
      "execution_count": null,
      "outputs": [
        {
          "output_type": "stream",
          "name": "stdout",
          "text": [
            "Agora               \t ADV \t agora               \t True\n",
            ",                   \t PUNCT\t ,                   \t False\n",
            "nós                 \t PRON\t nós                 \t True\n",
            "estamos             \t AUX \t estar               \t False\n",
            "no                  \t ADP \t em o                \t True\n",
            "começo              \t NOUN\t começo              \t False\n",
            "da                  \t ADP \t de o                \t True\n",
            "disciplina          \t NOUN\t disciplina          \t False\n",
            "de                  \t ADP \t de                  \t True\n",
            "PLN                 \t PROPN\t PLN                 \t False\n",
            "e                   \t CCONJ\t e                   \t True\n",
            "Mineração           \t PROPN\t Mineração           \t False\n",
            "de                  \t ADP \t de                  \t True\n",
            "Texto               \t PROPN\t Texto               \t False\n",
            ".                   \t PUNCT\t .                   \t False\n"
          ]
        }
      ]
    },
    {
      "cell_type": "markdown",
      "source": [
        "Tokenização de textos consiste em dividir uma frase em palavras ou tokens individuais. Isso é feito para simplificar o texto e prepará-lo para outros estágios de processamento.\n",
        "\n",
        "# Part-Of-Speech tagger\n",
        "\n",
        "Juntamente com a tarefa de Tokenização, o Spacy também executa um Part-Of-Speech tagger.\n",
        "\n",
        "Um Part-Of-Speech Tagger, ou etiquetador de partes do discurso, é uma tarefa de PLN que atribui categorias gramaticais, como substantivos, verbos, adjetivos, advérbios, entre outros, a cada palavra em um texto. Essa técnica pode ser utilizada para a compreensão da estrutura e significado das frases, auxiliando na análise sintática e semântica de textos escritos.\n",
        "\n",
        "Pelo Spacy, os tokens podem ser acessados com a interface de interação entre os tokens, com um for, por exemplo. Cada token possui diferentes propriedades:\n",
        "*   text - apresenta o texto do token\n",
        "*   tag_ - identifica o tipo de token identificado, como na estrutura sintática do texto: adverbos, pronomes, pontuações, conjunções, entre outros.\n",
        "*   entre outras propriedades relacionadas ao texto.\n",
        "\n",
        "O relacionamento entre os tokens, seguindo a estrutura sintática do texto, juntamente com os aspectos morfológicos podem ser visualizados com o módulo displaCy.\n",
        "\n"
      ],
      "metadata": {
        "id": "Y3HML6tio9bZ"
      }
    },
    {
      "cell_type": "code",
      "source": [
        "from spacy import displacy\n",
        "\n",
        "displacy.render(doc, jupyter=True)"
      ],
      "metadata": {
        "colab": {
          "base_uri": "https://localhost:8080/",
          "height": 440
        },
        "id": "99pWrEOOsUZX",
        "outputId": "b4b89919-00c2-455f-fa75-c565b4bf6d1e"
      },
      "execution_count": null,
      "outputs": [
        {
          "output_type": "display_data",
          "data": {
            "text/plain": [
              "<IPython.core.display.HTML object>"
            ],
            "text/html": [
              "<span class=\"tex2jax_ignore\"><svg xmlns=\"http://www.w3.org/2000/svg\" xmlns:xlink=\"http://www.w3.org/1999/xlink\" xml:lang=\"pt\" id=\"5a61c78dd5b24e40ba47b9d2c06f5b71-0\" class=\"displacy\" width=\"2325\" height=\"399.5\" direction=\"ltr\" style=\"max-width: none; height: 399.5px; color: #000000; background: #ffffff; font-family: Arial; direction: ltr\">\n",
              "<text class=\"displacy-token\" fill=\"currentColor\" text-anchor=\"middle\" y=\"309.5\">\n",
              "    <tspan class=\"displacy-word\" fill=\"currentColor\" x=\"50\">Agora,</tspan>\n",
              "    <tspan class=\"displacy-tag\" dy=\"2em\" fill=\"currentColor\" x=\"50\">ADV</tspan>\n",
              "</text>\n",
              "\n",
              "<text class=\"displacy-token\" fill=\"currentColor\" text-anchor=\"middle\" y=\"309.5\">\n",
              "    <tspan class=\"displacy-word\" fill=\"currentColor\" x=\"225\">nós</tspan>\n",
              "    <tspan class=\"displacy-tag\" dy=\"2em\" fill=\"currentColor\" x=\"225\">PRON</tspan>\n",
              "</text>\n",
              "\n",
              "<text class=\"displacy-token\" fill=\"currentColor\" text-anchor=\"middle\" y=\"309.5\">\n",
              "    <tspan class=\"displacy-word\" fill=\"currentColor\" x=\"400\">estamos</tspan>\n",
              "    <tspan class=\"displacy-tag\" dy=\"2em\" fill=\"currentColor\" x=\"400\">AUX</tspan>\n",
              "</text>\n",
              "\n",
              "<text class=\"displacy-token\" fill=\"currentColor\" text-anchor=\"middle\" y=\"309.5\">\n",
              "    <tspan class=\"displacy-word\" fill=\"currentColor\" x=\"575\">no</tspan>\n",
              "    <tspan class=\"displacy-tag\" dy=\"2em\" fill=\"currentColor\" x=\"575\">ADP</tspan>\n",
              "</text>\n",
              "\n",
              "<text class=\"displacy-token\" fill=\"currentColor\" text-anchor=\"middle\" y=\"309.5\">\n",
              "    <tspan class=\"displacy-word\" fill=\"currentColor\" x=\"750\">começo</tspan>\n",
              "    <tspan class=\"displacy-tag\" dy=\"2em\" fill=\"currentColor\" x=\"750\">NOUN</tspan>\n",
              "</text>\n",
              "\n",
              "<text class=\"displacy-token\" fill=\"currentColor\" text-anchor=\"middle\" y=\"309.5\">\n",
              "    <tspan class=\"displacy-word\" fill=\"currentColor\" x=\"925\">da</tspan>\n",
              "    <tspan class=\"displacy-tag\" dy=\"2em\" fill=\"currentColor\" x=\"925\">ADP</tspan>\n",
              "</text>\n",
              "\n",
              "<text class=\"displacy-token\" fill=\"currentColor\" text-anchor=\"middle\" y=\"309.5\">\n",
              "    <tspan class=\"displacy-word\" fill=\"currentColor\" x=\"1100\">disciplina</tspan>\n",
              "    <tspan class=\"displacy-tag\" dy=\"2em\" fill=\"currentColor\" x=\"1100\">NOUN</tspan>\n",
              "</text>\n",
              "\n",
              "<text class=\"displacy-token\" fill=\"currentColor\" text-anchor=\"middle\" y=\"309.5\">\n",
              "    <tspan class=\"displacy-word\" fill=\"currentColor\" x=\"1275\">de</tspan>\n",
              "    <tspan class=\"displacy-tag\" dy=\"2em\" fill=\"currentColor\" x=\"1275\">ADP</tspan>\n",
              "</text>\n",
              "\n",
              "<text class=\"displacy-token\" fill=\"currentColor\" text-anchor=\"middle\" y=\"309.5\">\n",
              "    <tspan class=\"displacy-word\" fill=\"currentColor\" x=\"1450\">PLN</tspan>\n",
              "    <tspan class=\"displacy-tag\" dy=\"2em\" fill=\"currentColor\" x=\"1450\">PROPN</tspan>\n",
              "</text>\n",
              "\n",
              "<text class=\"displacy-token\" fill=\"currentColor\" text-anchor=\"middle\" y=\"309.5\">\n",
              "    <tspan class=\"displacy-word\" fill=\"currentColor\" x=\"1625\">e</tspan>\n",
              "    <tspan class=\"displacy-tag\" dy=\"2em\" fill=\"currentColor\" x=\"1625\">CCONJ</tspan>\n",
              "</text>\n",
              "\n",
              "<text class=\"displacy-token\" fill=\"currentColor\" text-anchor=\"middle\" y=\"309.5\">\n",
              "    <tspan class=\"displacy-word\" fill=\"currentColor\" x=\"1800\">Mineração</tspan>\n",
              "    <tspan class=\"displacy-tag\" dy=\"2em\" fill=\"currentColor\" x=\"1800\">PROPN</tspan>\n",
              "</text>\n",
              "\n",
              "<text class=\"displacy-token\" fill=\"currentColor\" text-anchor=\"middle\" y=\"309.5\">\n",
              "    <tspan class=\"displacy-word\" fill=\"currentColor\" x=\"1975\">de</tspan>\n",
              "    <tspan class=\"displacy-tag\" dy=\"2em\" fill=\"currentColor\" x=\"1975\">ADP</tspan>\n",
              "</text>\n",
              "\n",
              "<text class=\"displacy-token\" fill=\"currentColor\" text-anchor=\"middle\" y=\"309.5\">\n",
              "    <tspan class=\"displacy-word\" fill=\"currentColor\" x=\"2150\">Texto.</tspan>\n",
              "    <tspan class=\"displacy-tag\" dy=\"2em\" fill=\"currentColor\" x=\"2150\">PROPN</tspan>\n",
              "</text>\n",
              "\n",
              "<g class=\"displacy-arrow\">\n",
              "    <path class=\"displacy-arc\" id=\"arrow-5a61c78dd5b24e40ba47b9d2c06f5b71-0-0\" stroke-width=\"2px\" d=\"M70,264.5 C70,2.0 750.0,2.0 750.0,264.5\" fill=\"none\" stroke=\"currentColor\"/>\n",
              "    <text dy=\"1.25em\" style=\"font-size: 0.8em; letter-spacing: 1px\">\n",
              "        <textPath xlink:href=\"#arrow-5a61c78dd5b24e40ba47b9d2c06f5b71-0-0\" class=\"displacy-label\" startOffset=\"50%\" side=\"left\" fill=\"currentColor\" text-anchor=\"middle\">advmod</textPath>\n",
              "    </text>\n",
              "    <path class=\"displacy-arrowhead\" d=\"M70,266.5 L62,254.5 78,254.5\" fill=\"currentColor\"/>\n",
              "</g>\n",
              "\n",
              "<g class=\"displacy-arrow\">\n",
              "    <path class=\"displacy-arc\" id=\"arrow-5a61c78dd5b24e40ba47b9d2c06f5b71-0-1\" stroke-width=\"2px\" d=\"M245,264.5 C245,177.0 390.0,177.0 390.0,264.5\" fill=\"none\" stroke=\"currentColor\"/>\n",
              "    <text dy=\"1.25em\" style=\"font-size: 0.8em; letter-spacing: 1px\">\n",
              "        <textPath xlink:href=\"#arrow-5a61c78dd5b24e40ba47b9d2c06f5b71-0-1\" class=\"displacy-label\" startOffset=\"50%\" side=\"left\" fill=\"currentColor\" text-anchor=\"middle\">nsubj</textPath>\n",
              "    </text>\n",
              "    <path class=\"displacy-arrowhead\" d=\"M245,266.5 L237,254.5 253,254.5\" fill=\"currentColor\"/>\n",
              "</g>\n",
              "\n",
              "<g class=\"displacy-arrow\">\n",
              "    <path class=\"displacy-arc\" id=\"arrow-5a61c78dd5b24e40ba47b9d2c06f5b71-0-2\" stroke-width=\"2px\" d=\"M420,264.5 C420,89.5 745.0,89.5 745.0,264.5\" fill=\"none\" stroke=\"currentColor\"/>\n",
              "    <text dy=\"1.25em\" style=\"font-size: 0.8em; letter-spacing: 1px\">\n",
              "        <textPath xlink:href=\"#arrow-5a61c78dd5b24e40ba47b9d2c06f5b71-0-2\" class=\"displacy-label\" startOffset=\"50%\" side=\"left\" fill=\"currentColor\" text-anchor=\"middle\">cop</textPath>\n",
              "    </text>\n",
              "    <path class=\"displacy-arrowhead\" d=\"M420,266.5 L412,254.5 428,254.5\" fill=\"currentColor\"/>\n",
              "</g>\n",
              "\n",
              "<g class=\"displacy-arrow\">\n",
              "    <path class=\"displacy-arc\" id=\"arrow-5a61c78dd5b24e40ba47b9d2c06f5b71-0-3\" stroke-width=\"2px\" d=\"M595,264.5 C595,177.0 740.0,177.0 740.0,264.5\" fill=\"none\" stroke=\"currentColor\"/>\n",
              "    <text dy=\"1.25em\" style=\"font-size: 0.8em; letter-spacing: 1px\">\n",
              "        <textPath xlink:href=\"#arrow-5a61c78dd5b24e40ba47b9d2c06f5b71-0-3\" class=\"displacy-label\" startOffset=\"50%\" side=\"left\" fill=\"currentColor\" text-anchor=\"middle\">case</textPath>\n",
              "    </text>\n",
              "    <path class=\"displacy-arrowhead\" d=\"M595,266.5 L587,254.5 603,254.5\" fill=\"currentColor\"/>\n",
              "</g>\n",
              "\n",
              "<g class=\"displacy-arrow\">\n",
              "    <path class=\"displacy-arc\" id=\"arrow-5a61c78dd5b24e40ba47b9d2c06f5b71-0-4\" stroke-width=\"2px\" d=\"M945,264.5 C945,177.0 1090.0,177.0 1090.0,264.5\" fill=\"none\" stroke=\"currentColor\"/>\n",
              "    <text dy=\"1.25em\" style=\"font-size: 0.8em; letter-spacing: 1px\">\n",
              "        <textPath xlink:href=\"#arrow-5a61c78dd5b24e40ba47b9d2c06f5b71-0-4\" class=\"displacy-label\" startOffset=\"50%\" side=\"left\" fill=\"currentColor\" text-anchor=\"middle\">case</textPath>\n",
              "    </text>\n",
              "    <path class=\"displacy-arrowhead\" d=\"M945,266.5 L937,254.5 953,254.5\" fill=\"currentColor\"/>\n",
              "</g>\n",
              "\n",
              "<g class=\"displacy-arrow\">\n",
              "    <path class=\"displacy-arc\" id=\"arrow-5a61c78dd5b24e40ba47b9d2c06f5b71-0-5\" stroke-width=\"2px\" d=\"M770,264.5 C770,89.5 1095.0,89.5 1095.0,264.5\" fill=\"none\" stroke=\"currentColor\"/>\n",
              "    <text dy=\"1.25em\" style=\"font-size: 0.8em; letter-spacing: 1px\">\n",
              "        <textPath xlink:href=\"#arrow-5a61c78dd5b24e40ba47b9d2c06f5b71-0-5\" class=\"displacy-label\" startOffset=\"50%\" side=\"left\" fill=\"currentColor\" text-anchor=\"middle\">nmod</textPath>\n",
              "    </text>\n",
              "    <path class=\"displacy-arrowhead\" d=\"M1095.0,266.5 L1103.0,254.5 1087.0,254.5\" fill=\"currentColor\"/>\n",
              "</g>\n",
              "\n",
              "<g class=\"displacy-arrow\">\n",
              "    <path class=\"displacy-arc\" id=\"arrow-5a61c78dd5b24e40ba47b9d2c06f5b71-0-6\" stroke-width=\"2px\" d=\"M1295,264.5 C1295,177.0 1440.0,177.0 1440.0,264.5\" fill=\"none\" stroke=\"currentColor\"/>\n",
              "    <text dy=\"1.25em\" style=\"font-size: 0.8em; letter-spacing: 1px\">\n",
              "        <textPath xlink:href=\"#arrow-5a61c78dd5b24e40ba47b9d2c06f5b71-0-6\" class=\"displacy-label\" startOffset=\"50%\" side=\"left\" fill=\"currentColor\" text-anchor=\"middle\">case</textPath>\n",
              "    </text>\n",
              "    <path class=\"displacy-arrowhead\" d=\"M1295,266.5 L1287,254.5 1303,254.5\" fill=\"currentColor\"/>\n",
              "</g>\n",
              "\n",
              "<g class=\"displacy-arrow\">\n",
              "    <path class=\"displacy-arc\" id=\"arrow-5a61c78dd5b24e40ba47b9d2c06f5b71-0-7\" stroke-width=\"2px\" d=\"M1120,264.5 C1120,89.5 1445.0,89.5 1445.0,264.5\" fill=\"none\" stroke=\"currentColor\"/>\n",
              "    <text dy=\"1.25em\" style=\"font-size: 0.8em; letter-spacing: 1px\">\n",
              "        <textPath xlink:href=\"#arrow-5a61c78dd5b24e40ba47b9d2c06f5b71-0-7\" class=\"displacy-label\" startOffset=\"50%\" side=\"left\" fill=\"currentColor\" text-anchor=\"middle\">nmod</textPath>\n",
              "    </text>\n",
              "    <path class=\"displacy-arrowhead\" d=\"M1445.0,266.5 L1453.0,254.5 1437.0,254.5\" fill=\"currentColor\"/>\n",
              "</g>\n",
              "\n",
              "<g class=\"displacy-arrow\">\n",
              "    <path class=\"displacy-arc\" id=\"arrow-5a61c78dd5b24e40ba47b9d2c06f5b71-0-8\" stroke-width=\"2px\" d=\"M1645,264.5 C1645,177.0 1790.0,177.0 1790.0,264.5\" fill=\"none\" stroke=\"currentColor\"/>\n",
              "    <text dy=\"1.25em\" style=\"font-size: 0.8em; letter-spacing: 1px\">\n",
              "        <textPath xlink:href=\"#arrow-5a61c78dd5b24e40ba47b9d2c06f5b71-0-8\" class=\"displacy-label\" startOffset=\"50%\" side=\"left\" fill=\"currentColor\" text-anchor=\"middle\">cc</textPath>\n",
              "    </text>\n",
              "    <path class=\"displacy-arrowhead\" d=\"M1645,266.5 L1637,254.5 1653,254.5\" fill=\"currentColor\"/>\n",
              "</g>\n",
              "\n",
              "<g class=\"displacy-arrow\">\n",
              "    <path class=\"displacy-arc\" id=\"arrow-5a61c78dd5b24e40ba47b9d2c06f5b71-0-9\" stroke-width=\"2px\" d=\"M1470,264.5 C1470,89.5 1795.0,89.5 1795.0,264.5\" fill=\"none\" stroke=\"currentColor\"/>\n",
              "    <text dy=\"1.25em\" style=\"font-size: 0.8em; letter-spacing: 1px\">\n",
              "        <textPath xlink:href=\"#arrow-5a61c78dd5b24e40ba47b9d2c06f5b71-0-9\" class=\"displacy-label\" startOffset=\"50%\" side=\"left\" fill=\"currentColor\" text-anchor=\"middle\">conj</textPath>\n",
              "    </text>\n",
              "    <path class=\"displacy-arrowhead\" d=\"M1795.0,266.5 L1803.0,254.5 1787.0,254.5\" fill=\"currentColor\"/>\n",
              "</g>\n",
              "\n",
              "<g class=\"displacy-arrow\">\n",
              "    <path class=\"displacy-arc\" id=\"arrow-5a61c78dd5b24e40ba47b9d2c06f5b71-0-10\" stroke-width=\"2px\" d=\"M1995,264.5 C1995,177.0 2140.0,177.0 2140.0,264.5\" fill=\"none\" stroke=\"currentColor\"/>\n",
              "    <text dy=\"1.25em\" style=\"font-size: 0.8em; letter-spacing: 1px\">\n",
              "        <textPath xlink:href=\"#arrow-5a61c78dd5b24e40ba47b9d2c06f5b71-0-10\" class=\"displacy-label\" startOffset=\"50%\" side=\"left\" fill=\"currentColor\" text-anchor=\"middle\">case</textPath>\n",
              "    </text>\n",
              "    <path class=\"displacy-arrowhead\" d=\"M1995,266.5 L1987,254.5 2003,254.5\" fill=\"currentColor\"/>\n",
              "</g>\n",
              "\n",
              "<g class=\"displacy-arrow\">\n",
              "    <path class=\"displacy-arc\" id=\"arrow-5a61c78dd5b24e40ba47b9d2c06f5b71-0-11\" stroke-width=\"2px\" d=\"M1820,264.5 C1820,89.5 2145.0,89.5 2145.0,264.5\" fill=\"none\" stroke=\"currentColor\"/>\n",
              "    <text dy=\"1.25em\" style=\"font-size: 0.8em; letter-spacing: 1px\">\n",
              "        <textPath xlink:href=\"#arrow-5a61c78dd5b24e40ba47b9d2c06f5b71-0-11\" class=\"displacy-label\" startOffset=\"50%\" side=\"left\" fill=\"currentColor\" text-anchor=\"middle\">nmod</textPath>\n",
              "    </text>\n",
              "    <path class=\"displacy-arrowhead\" d=\"M2145.0,266.5 L2153.0,254.5 2137.0,254.5\" fill=\"currentColor\"/>\n",
              "</g>\n",
              "</svg></span>"
            ]
          },
          "metadata": {}
        }
      ]
    },
    {
      "cell_type": "markdown",
      "source": [
        "# Entidades Nomeadas\n",
        "\n",
        "O Spacy também é capaz de reconhecer Entidades Nomeadas no texto.\n",
        "\n",
        "Entidades nomeadas são referências a pessoas, lugares, organizações, eventos e outros conceitos específicos que podem ser identificados em um texto. Elas são uma forma de extração de informações estruturadas a partir de textos não estruturados. A identificação de entidades nomeadas é uma tarefa fundamental, pois permite a extração de informações relevantes de um texto, para sua posterior análise. Por exemplo, a identificação de entidades nomeadas pode ser usada para realizar uma análise de sentimento em textos, identificando as entidades que são mencionadas em comentários de clientes e avaliando a opinião deles em relação a essas entidades. A identificação de entidades nomeadas também pode ser usada em aplicações de busca, para fornecer resultados mais relevantes e precisos.\n",
        "\n",
        "As Entidades nomeadas são reconhecidas no texto e são embutidas no objeto Documento retornado pelo Spacy."
      ],
      "metadata": {
        "id": "1h4qTKKGuTR6"
      }
    },
    {
      "cell_type": "code",
      "source": [
        "doc = pln('''A Microsoft tem atuado fortemente na área de Computação em Núvem.\n",
        "No Brasil, essa área de atuação exige conhecimentos de Programação Web\n",
        "(Front-End e Back-End), Banco de Dados, JavaScript, entre outras tecnologias.''')\n",
        "\n",
        "for ent in doc.ents:\n",
        "  print(f'{ent.text:20}\\t{ent.label_:20}')\n",
        "\n",
        "displacy.render(doc, style='ent', jupyter=True)"
      ],
      "metadata": {
        "colab": {
          "base_uri": "https://localhost:8080/",
          "height": 278
        },
        "id": "UqJw018iuEQQ",
        "outputId": "3249c6ff-3609-4d2a-fcf6-74e45e306faf"
      },
      "execution_count": null,
      "outputs": [
        {
          "output_type": "stream",
          "name": "stdout",
          "text": [
            "Microsoft           \tORG                 \n",
            "Computação          \tLOC                 \n",
            "Núvem               \tLOC                 \n",
            "Brasil              \tLOC                 \n",
            "Programação Web     \tMISC                \n",
            "Front-End           \tLOC                 \n",
            "Back-End            \tLOC                 \n",
            "Banco de Dados      \tORG                 \n",
            "JavaScript          \tMISC                \n"
          ]
        },
        {
          "output_type": "display_data",
          "data": {
            "text/plain": [
              "<IPython.core.display.HTML object>"
            ],
            "text/html": [
              "<span class=\"tex2jax_ignore\"><div class=\"entities\" style=\"line-height: 2.5; direction: ltr\">A \n",
              "<mark class=\"entity\" style=\"background: #7aecec; padding: 0.45em 0.6em; margin: 0 0.25em; line-height: 1; border-radius: 0.35em;\">\n",
              "    Microsoft\n",
              "    <span style=\"font-size: 0.8em; font-weight: bold; line-height: 1; border-radius: 0.35em; vertical-align: middle; margin-left: 0.5rem\">ORG</span>\n",
              "</mark>\n",
              " tem atuado fortemente na área de \n",
              "<mark class=\"entity\" style=\"background: #ff9561; padding: 0.45em 0.6em; margin: 0 0.25em; line-height: 1; border-radius: 0.35em;\">\n",
              "    Computação\n",
              "    <span style=\"font-size: 0.8em; font-weight: bold; line-height: 1; border-radius: 0.35em; vertical-align: middle; margin-left: 0.5rem\">LOC</span>\n",
              "</mark>\n",
              " em \n",
              "<mark class=\"entity\" style=\"background: #ff9561; padding: 0.45em 0.6em; margin: 0 0.25em; line-height: 1; border-radius: 0.35em;\">\n",
              "    Núvem\n",
              "    <span style=\"font-size: 0.8em; font-weight: bold; line-height: 1; border-radius: 0.35em; vertical-align: middle; margin-left: 0.5rem\">LOC</span>\n",
              "</mark>\n",
              ".<br>No \n",
              "<mark class=\"entity\" style=\"background: #ff9561; padding: 0.45em 0.6em; margin: 0 0.25em; line-height: 1; border-radius: 0.35em;\">\n",
              "    Brasil\n",
              "    <span style=\"font-size: 0.8em; font-weight: bold; line-height: 1; border-radius: 0.35em; vertical-align: middle; margin-left: 0.5rem\">LOC</span>\n",
              "</mark>\n",
              ", essa área de atuação exige conhecimentos de \n",
              "<mark class=\"entity\" style=\"background: #ddd; padding: 0.45em 0.6em; margin: 0 0.25em; line-height: 1; border-radius: 0.35em;\">\n",
              "    Programação Web\n",
              "    <span style=\"font-size: 0.8em; font-weight: bold; line-height: 1; border-radius: 0.35em; vertical-align: middle; margin-left: 0.5rem\">MISC</span>\n",
              "</mark>\n",
              "<br>(\n",
              "<mark class=\"entity\" style=\"background: #ff9561; padding: 0.45em 0.6em; margin: 0 0.25em; line-height: 1; border-radius: 0.35em;\">\n",
              "    Front-End\n",
              "    <span style=\"font-size: 0.8em; font-weight: bold; line-height: 1; border-radius: 0.35em; vertical-align: middle; margin-left: 0.5rem\">LOC</span>\n",
              "</mark>\n",
              " e \n",
              "<mark class=\"entity\" style=\"background: #ff9561; padding: 0.45em 0.6em; margin: 0 0.25em; line-height: 1; border-radius: 0.35em;\">\n",
              "    Back-End\n",
              "    <span style=\"font-size: 0.8em; font-weight: bold; line-height: 1; border-radius: 0.35em; vertical-align: middle; margin-left: 0.5rem\">LOC</span>\n",
              "</mark>\n",
              "), \n",
              "<mark class=\"entity\" style=\"background: #7aecec; padding: 0.45em 0.6em; margin: 0 0.25em; line-height: 1; border-radius: 0.35em;\">\n",
              "    Banco de Dados\n",
              "    <span style=\"font-size: 0.8em; font-weight: bold; line-height: 1; border-radius: 0.35em; vertical-align: middle; margin-left: 0.5rem\">ORG</span>\n",
              "</mark>\n",
              ", \n",
              "<mark class=\"entity\" style=\"background: #ddd; padding: 0.45em 0.6em; margin: 0 0.25em; line-height: 1; border-radius: 0.35em;\">\n",
              "    JavaScript\n",
              "    <span style=\"font-size: 0.8em; font-weight: bold; line-height: 1; border-radius: 0.35em; vertical-align: middle; margin-left: 0.5rem\">MISC</span>\n",
              "</mark>\n",
              ", entre outras tecnologias.</div></span>"
            ]
          },
          "metadata": {}
        }
      ]
    },
    {
      "cell_type": "code",
      "source": [
        "doc2 = pln('''Vinícius de Morais é um cantor/compositor de renome de músicas\n",
        "no estilo de bossa nova. Parte de suas músicas referenciavam a cidade do Rio de\n",
        "Janeiro. Ele não tinha iPhone e nem gostava de carros no modelo Tesla.''')\n",
        "displacy.render(doc2, style='ent', jupyter=True)"
      ],
      "metadata": {
        "colab": {
          "base_uri": "https://localhost:8080/",
          "height": 87
        },
        "id": "08vJXIEK2v_M",
        "outputId": "56144326-b237-473e-cb55-f103d7e9b54e"
      },
      "execution_count": null,
      "outputs": [
        {
          "output_type": "display_data",
          "data": {
            "text/plain": [
              "<IPython.core.display.HTML object>"
            ],
            "text/html": [
              "<span class=\"tex2jax_ignore\"><div class=\"entities\" style=\"line-height: 2.5; direction: ltr\">\n",
              "<mark class=\"entity\" style=\"background: #ddd; padding: 0.45em 0.6em; margin: 0 0.25em; line-height: 1; border-radius: 0.35em;\">\n",
              "    Vinícius de Morais\n",
              "    <span style=\"font-size: 0.8em; font-weight: bold; line-height: 1; border-radius: 0.35em; vertical-align: middle; margin-left: 0.5rem\">PER</span>\n",
              "</mark>\n",
              " é um cantor/compositor de renome de músicas<br>no estilo de bossa nova. Parte de suas músicas referenciavam a cidade do \n",
              "<mark class=\"entity\" style=\"background: #ff9561; padding: 0.45em 0.6em; margin: 0 0.25em; line-height: 1; border-radius: 0.35em;\">\n",
              "    Rio de\n",
              "Janeiro\n",
              "    <span style=\"font-size: 0.8em; font-weight: bold; line-height: 1; border-radius: 0.35em; vertical-align: middle; margin-left: 0.5rem\">LOC</span>\n",
              "</mark>\n",
              ". Ele não tinha \n",
              "<mark class=\"entity\" style=\"background: #ddd; padding: 0.45em 0.6em; margin: 0 0.25em; line-height: 1; border-radius: 0.35em;\">\n",
              "    iPhone\n",
              "    <span style=\"font-size: 0.8em; font-weight: bold; line-height: 1; border-radius: 0.35em; vertical-align: middle; margin-left: 0.5rem\">MISC</span>\n",
              "</mark>\n",
              " e nem gostava de carros no modelo \n",
              "<mark class=\"entity\" style=\"background: #ddd; padding: 0.45em 0.6em; margin: 0 0.25em; line-height: 1; border-radius: 0.35em;\">\n",
              "    Tesla\n",
              "    <span style=\"font-size: 0.8em; font-weight: bold; line-height: 1; border-radius: 0.35em; vertical-align: middle; margin-left: 0.5rem\">PER</span>\n",
              "</mark>\n",
              ".</div></span>"
            ]
          },
          "metadata": {}
        }
      ]
    },
    {
      "cell_type": "code",
      "source": [
        "doc3 = pln('''\n",
        "UE é uma forma simplificada. União Européia também é a mesma coisa.\n",
        "Brasil e BR são a mesma coisa também.\n",
        "Lula é o presidente.\n",
        "UTFPR é uma universidade tecnológica.\n",
        "Petrobrás é uma empresa brasileira.\n",
        "''')\n",
        "displacy.render(doc3, style='ent', jupyter=True)\n",
        "for ent in doc3.ents:\n",
        "  print(f'{ent.text:20} : {ent.label_}')"
      ],
      "metadata": {
        "id": "Cy_MxXFt3bQh",
        "colab": {
          "base_uri": "https://localhost:8080/",
          "height": 349
        },
        "outputId": "a9cce9cb-eecd-40d1-fea8-9cca4daefab2"
      },
      "execution_count": null,
      "outputs": [
        {
          "output_type": "display_data",
          "data": {
            "text/plain": [
              "<IPython.core.display.HTML object>"
            ],
            "text/html": [
              "<span class=\"tex2jax_ignore\"><div class=\"entities\" style=\"line-height: 2.5; direction: ltr\"><br>\n",
              "<mark class=\"entity\" style=\"background: #7aecec; padding: 0.45em 0.6em; margin: 0 0.25em; line-height: 1; border-radius: 0.35em;\">\n",
              "    UE\n",
              "    <span style=\"font-size: 0.8em; font-weight: bold; line-height: 1; border-radius: 0.35em; vertical-align: middle; margin-left: 0.5rem\">ORG</span>\n",
              "</mark>\n",
              " é uma forma simplificada. \n",
              "<mark class=\"entity\" style=\"background: #7aecec; padding: 0.45em 0.6em; margin: 0 0.25em; line-height: 1; border-radius: 0.35em;\">\n",
              "    União Européia\n",
              "    <span style=\"font-size: 0.8em; font-weight: bold; line-height: 1; border-radius: 0.35em; vertical-align: middle; margin-left: 0.5rem\">ORG</span>\n",
              "</mark>\n",
              " também é a mesma coisa.<br>\n",
              "<mark class=\"entity\" style=\"background: #ff9561; padding: 0.45em 0.6em; margin: 0 0.25em; line-height: 1; border-radius: 0.35em;\">\n",
              "    Brasil\n",
              "    <span style=\"font-size: 0.8em; font-weight: bold; line-height: 1; border-radius: 0.35em; vertical-align: middle; margin-left: 0.5rem\">LOC</span>\n",
              "</mark>\n",
              " e \n",
              "<mark class=\"entity\" style=\"background: #ff9561; padding: 0.45em 0.6em; margin: 0 0.25em; line-height: 1; border-radius: 0.35em;\">\n",
              "    BR\n",
              "    <span style=\"font-size: 0.8em; font-weight: bold; line-height: 1; border-radius: 0.35em; vertical-align: middle; margin-left: 0.5rem\">LOC</span>\n",
              "</mark>\n",
              " são a mesma coisa também.<br>\n",
              "<mark class=\"entity\" style=\"background: #ddd; padding: 0.45em 0.6em; margin: 0 0.25em; line-height: 1; border-radius: 0.35em;\">\n",
              "    Lula\n",
              "    <span style=\"font-size: 0.8em; font-weight: bold; line-height: 1; border-radius: 0.35em; vertical-align: middle; margin-left: 0.5rem\">PER</span>\n",
              "</mark>\n",
              " é o presidente.<br>\n",
              "<mark class=\"entity\" style=\"background: #7aecec; padding: 0.45em 0.6em; margin: 0 0.25em; line-height: 1; border-radius: 0.35em;\">\n",
              "    UTFPR\n",
              "    <span style=\"font-size: 0.8em; font-weight: bold; line-height: 1; border-radius: 0.35em; vertical-align: middle; margin-left: 0.5rem\">ORG</span>\n",
              "</mark>\n",
              " é uma universidade tecnológica.<br>\n",
              "<mark class=\"entity\" style=\"background: #7aecec; padding: 0.45em 0.6em; margin: 0 0.25em; line-height: 1; border-radius: 0.35em;\">\n",
              "    Petrobrás\n",
              "    <span style=\"font-size: 0.8em; font-weight: bold; line-height: 1; border-radius: 0.35em; vertical-align: middle; margin-left: 0.5rem\">ORG</span>\n",
              "</mark>\n",
              " é uma empresa brasileira.<br></div></span>"
            ]
          },
          "metadata": {}
        },
        {
          "output_type": "stream",
          "name": "stdout",
          "text": [
            "UE                   : ORG\n",
            "União Européia       : ORG\n",
            "Brasil               : LOC\n",
            "BR                   : LOC\n",
            "Lula                 : PER\n",
            "UTFPR                : ORG\n",
            "Petrobrás            : ORG\n"
          ]
        }
      ]
    },
    {
      "cell_type": "markdown",
      "source": [
        "# Lemas\n",
        "\n",
        "A tarefa de lematização é uma tarefa de PLN que consiste em reduzir palavras flexionadas a sua forma base ou lema, ou seja, a forma como elas aparecem em um dicionário. Isso é importante porque diferentes formas de uma palavra podem ter o mesmo significado, mas são tratadas como palavras diferentes em um texto. A lematização é diferente do stemming, que é uma técnica mais agressiva que remove sufixos para obter a palavra raiz, mas pode resultar em palavras sem sentido.\n",
        "\n",
        "Exemplos de palavras e seus lemas incluem:\n",
        "* Amando / amar\n",
        "* Correndo / correr\n",
        "* Casas / casa\n",
        "* Árvores / árvore\n",
        "* Mais / mais\n",
        "* Menos / menos\n",
        "* Pequenas / pequeno\n",
        "\n",
        "Nos tokens identificados anteriormente os lemas identificados pelo Spacy, já estavam incorporados:\n"
      ],
      "metadata": {
        "id": "0wlwmXUVipyg"
      }
    },
    {
      "cell_type": "code",
      "source": [
        "for token in doc:\n",
        "  print(f'{token.text:30} -> {token.lemma_}')"
      ],
      "metadata": {
        "colab": {
          "base_uri": "https://localhost:8080/"
        },
        "id": "6T0YjHHukK-p",
        "outputId": "d4cd957f-6f64-4979-caa3-afcdee2af5bc"
      },
      "execution_count": null,
      "outputs": [
        {
          "output_type": "stream",
          "name": "stdout",
          "text": [
            "A                              -> o\n",
            "Microsoft                      -> Microsoft\n",
            "tem                            -> ter\n",
            "atuado                         -> atuar\n",
            "fortemente                     -> fortemente\n",
            "na                             -> em o\n",
            "área                           -> área\n",
            "de                             -> de\n",
            "Computação                     -> Computação\n",
            "em                             -> em\n",
            "Núvem                          -> Núvem\n",
            ".                              -> .\n",
            "\n",
            "                              -> \n",
            "\n",
            "No                             -> em o\n",
            "Brasil                         -> Brasil\n",
            ",                              -> ,\n",
            "essa                           -> esse\n",
            "área                           -> área\n",
            "de                             -> de\n",
            "atuação                        -> atuação\n",
            "exige                          -> exigir\n",
            "conhecimentos                  -> conhecimento\n",
            "de                             -> de\n",
            "Programação                    -> Programação\n",
            "Web                            -> Web\n",
            "\n",
            "                              -> \n",
            "\n",
            "(                              -> (\n",
            "Front-End                      -> Front-End\n",
            "e                              -> e\n",
            "Back-End                       -> Back-End\n",
            ")                              -> )\n",
            ",                              -> ,\n",
            "Banco                          -> Banco\n",
            "de                             -> de\n",
            "Dados                          -> Dados\n",
            ",                              -> ,\n",
            "JavaScript                     -> JavaScript\n",
            ",                              -> ,\n",
            "entre                          -> entre\n",
            "outras                         -> outro\n",
            "tecnologias                    -> tecnologia\n",
            ".                              -> .\n"
          ]
        }
      ]
    },
    {
      "cell_type": "markdown",
      "source": [
        "# Stop words\n",
        "Stop words em português são palavras comuns que são frequentemente removidas de um texto em aplicações de mineração de texto porque elas não contribuem significativamente para o significado do texto. Exemplos de stop words em português incluem \"de\", \"a\", \"o\", \"que\", \"e\", \"do\", \"da\", \"em\", \"um\", \"para\", \"e\", \"com\", \"nao\", \"uma\", \"os\", \"no\", \"se\", \"na\", \"por\", \"mais\", \"as\", \"dos\", \"como\".\n",
        "\n",
        "A remoção de stop words pode ser útil em tarefas como análise de sentimento, classificação de texto e busca de informações, pois ela pode ajudar a reduzir o ruído e a melhorar a precisão dos algoritmos de PLN. No entanto, é importante notar que a lista de stop words pode variar dependendo do contexto e do domínio do texto.\n",
        "\n",
        "O pacote pt_core_news_sm utilizado nos exemplos do curso contém uma lista de stop words para o português."
      ],
      "metadata": {
        "id": "gqfc2gF7lxGt"
      }
    },
    {
      "cell_type": "code",
      "source": [
        "from spacy.lang.pt import stop_words\n",
        "\n",
        "print(stop_words.STOP_WORDS)"
      ],
      "metadata": {
        "colab": {
          "base_uri": "https://localhost:8080/"
        },
        "id": "3i-P--KcmyEP",
        "outputId": "4447a7b0-fb73-425e-a2cd-f823b51e5150"
      },
      "execution_count": null,
      "outputs": [
        {
          "output_type": "stream",
          "name": "stdout",
          "text": [
            "{'tanto', 'nesse', 'nada', 'cada', 'querem', 'eles', 'assim', 'além', 'corrente', 'final', 'fomos', 'qualquer', 'sim', 'tu', 'e', 'quieto', 'daquela', 'números', 'de', 'tempo', 'grandes', 'conhecido', 'nossas', 'posso', 'após', 'três', 'só', 'número', 'quarta', 'usa', 'nesta', 'zero', 'estão', 'nosso', 'sexto', 'mês', 'local', 'depois', 'vários', 'as', 'segundo', 'aquelas', 'este', 'ambos', 'teu', 'desta', 'quer', 'devem', 'põem', 'nível', 'catorze', 'nenhuma', 'quieta', 'pelos', 'nove', 'estou', 'os', 'põe', 'nas', 'suas', 'treze', 'esta', 'lado', 'naquele', 'agora', 'mil', 'maior', 'talvez', 'quê', 'vossa', 'fazeis', 'vinte', 'área', 'sois', 'ademais', 'já', 'ora', 'esse', 'duas', 'outros', 'aqui', 'terceira', 'ainda', 'sexta', 'um', 'estivestes', 'vocês', 'umas', 'cujo', 'meses', 'partir', 'pelo', 'tendes', 'dizer', 'antes', 'ela', 'estiveste', 'num', 'certeza', 'quem', 'essas', 'sétima', 'cuja', 'porém', 'toda', 'dez', 'aqueles', 'contudo', 'último', 'como', 'nuns', 'maioria', 'quero', 'meio', 'o', 'comprida', 'tivestes', 'vos', 'tiveram', 'parece', 'quando', 'da', 'quinze', 'tive', 'foram', 'sabe', 'estado', 'dá', 'lhe', 'faço', 'possivelmente', 'primeiro', 'longe', 'neste', 'pouca', 'nossos', 'ponto', 'diz', 'iniciar', 'tais', 'bom', 'vossas', 'inicio', 'do', 'está', 'naquela', 'teve', 'uma', 'no', 'fora', 'não', 'meus', 'possível', 'dar', 'quais', 'foi', 'dezanove', 'sou', 'apenas', 'pela', 'geral', 'minhas', 'favor', 'ligado', 'te', 'então', 'pegar', 'sem', 'fazemos', 'apontar', 'se', 'estivemos', 'valor', 'nem', 'logo', 'lugar', 'conselho', 'próximo', 'você', 'vinda', 'esteve', 'mas', 'numa', 'és', 'custa', 'bem', 'perto', 'nossa', 'meu', 'diante', 'bastante', 'fazer', 'das', 'cá', 'enquanto', 'são', 'deverá', 'pois', 'poder', 'que', 'tipo', 'nessa', 'posição', 'cento', 'estar', 'mesmo', 'puderam', 'nova', 'isso', 'ao', 'disso', 'é', 'saber', 'embora', 'tuas', 'grande', 'até', 'podem', 'adeus', 'oito', 'terceiro', 'questão', 'sete', 'próprio', 'porquê', 'tentei', 'vêm', 'muitos', 'dão', 'aquele', 'cedo', 'parte', 'aquela', 'demais', 'desse', 'inclusive', 'tão', 'vez', 'ontem', 'apoia', 'tanta', 'cinco', 'atrás', 'vindo', 'têm', 'sei', 'fazia', 'fostes', 'seus', 'pode', 'na', 'desde', 'deve', 'dezoito', 'foste', 'ver', 'uns', 'ele', 'todos', 'tenho', 'qual', 'vezes', 'dessa', 'sobre', 'fez', 'obrigado', 'conhecida', 'somos', 'máximo', 'vós', 'vão', 'acerca', 'através', 'esses', 'todas', 'ou', 'exemplo', 'estiveram', 'novas', 'próxima', 'pelas', 'tivemos', 'vais', 'algumas', 'eventual', 'irá', 'podia', 'estás', 'quarto', 'daquele', 'seis', 'certamente', 'obrigada', 'pontos', 'tentar', 'menos', 'novos', 'ser', 'tua', 'estes', 'vosso', 'breve', 'estava', 'direita', 'debaixo', 'vem', 'quinta', 'dizem', 'estas', 'com', 'povo', 'tente', 'seria', 'tal', 'tentaram', 'dos', 'lá', 'ambas', 'sempre', 'apoio', 'porque', 'porquanto', 'sétimo', 'fazes', 'quinto', 'maiorias', 'novo', 'pôde', 'também', 'nos', 'sua', 'muito', 'seu', 'às', 'estará', 'coisa', 'essa', 'ter', 'fim', 'quatro', 'boa', 'ir', 'deste', 'era', 'a', 'ali', 'baixo', 'dois', 'caminho', 'oitava', 'pouco', 'entre', 'onde', 'poderá', 'dentro', 'isto', 'alguns', 'segunda', 'sistema', 'por', 'oitavo', 'estive', 'veja', 'eu', 'for', 'forma', 'mais', 'aos', 'tudo', 'para', 'grupo', 'elas', 'todo', 'me', 'aí', 'minha', 'quanto', 'teus', 'fará', 'doze', 'mal', 'tarde', 'fui', 'outras', 'dezasseis', 'fazem', 'outra', 'portanto', 'tem', 'relação', 'aquilo', 'primeira', 'comprido', 'dezassete', 'cima', 'temos', 'vai', 'menor', 'à', 'onze', 'usar', 'falta', 'vossos', 'somente', 'nós', 'algo', 'contra', 'em', 'tens', 'faz', 'vens', 'momento', 'sob', 'tiveste', 'nunca', 'des'}\n"
          ]
        }
      ]
    },
    {
      "cell_type": "markdown",
      "source": [
        "Os tokens de um Documento definido pelo Spacy já identificam quais tokens são stop words no texto:"
      ],
      "metadata": {
        "id": "w4cofG4znBjr"
      }
    },
    {
      "cell_type": "code",
      "source": [
        "for token in doc:\n",
        "  is_stop = 'é stop word' if token.is_stop else 'não'\n",
        "  print(f'{token.text:20} -> {is_stop}')"
      ],
      "metadata": {
        "colab": {
          "base_uri": "https://localhost:8080/"
        },
        "id": "1vVRB2u3nK99",
        "outputId": "0679d97f-e7e0-4291-8109-b463c34199bc"
      },
      "execution_count": null,
      "outputs": [
        {
          "output_type": "stream",
          "name": "stdout",
          "text": [
            "A                    -> é stop word\n",
            "Microsoft            -> não\n",
            "tem                  -> é stop word\n",
            "atuado               -> não\n",
            "fortemente           -> não\n",
            "na                   -> é stop word\n",
            "área                 -> é stop word\n",
            "de                   -> é stop word\n",
            "Computação           -> não\n",
            "em                   -> é stop word\n",
            "Núvem                -> não\n",
            ".                    -> não\n",
            "\n",
            "                    -> não\n",
            "No                   -> é stop word\n",
            "Brasil               -> não\n",
            ",                    -> não\n",
            "essa                 -> é stop word\n",
            "área                 -> é stop word\n",
            "de                   -> é stop word\n",
            "atuação              -> não\n",
            "exige                -> não\n",
            "conhecimentos        -> não\n",
            "de                   -> é stop word\n",
            "Programação          -> não\n",
            "Web                  -> não\n",
            "\n",
            "                    -> não\n",
            "(                    -> não\n",
            "Front-End            -> não\n",
            "e                    -> é stop word\n",
            "Back-End             -> não\n",
            ")                    -> não\n",
            ",                    -> não\n",
            "Banco                -> não\n",
            "de                   -> é stop word\n",
            "Dados                -> não\n",
            ",                    -> não\n",
            "JavaScript           -> não\n",
            ",                    -> não\n",
            "entre                -> é stop word\n",
            "outras               -> é stop word\n",
            "tecnologias          -> não\n",
            ".                    -> não\n"
          ]
        }
      ]
    }
  ]
}
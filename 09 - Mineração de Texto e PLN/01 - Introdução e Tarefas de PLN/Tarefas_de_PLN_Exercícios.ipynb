{
  "nbformat": 4,
  "nbformat_minor": 0,
  "metadata": {
    "colab": {
      "provenance": []
    },
    "kernelspec": {
      "name": "python3",
      "display_name": "Python 3"
    },
    "language_info": {
      "name": "python"
    }
  },
  "cells": [
    {
      "cell_type": "code",
      "execution_count": 1,
      "metadata": {
        "colab": {
          "base_uri": "https://localhost:8080/"
        },
        "collapsed": true,
        "id": "C65zrLY0LmW8",
        "outputId": "b20e45c0-2923-415e-c5f8-db079d65279b"
      },
      "outputs": [
        {
          "output_type": "stream",
          "name": "stdout",
          "text": [
            "Requirement already satisfied: spacy in /usr/local/lib/python3.12/dist-packages (3.8.7)\n",
            "Requirement already satisfied: spacy-legacy<3.1.0,>=3.0.11 in /usr/local/lib/python3.12/dist-packages (from spacy) (3.0.12)\n",
            "Requirement already satisfied: spacy-loggers<2.0.0,>=1.0.0 in /usr/local/lib/python3.12/dist-packages (from spacy) (1.0.5)\n",
            "Requirement already satisfied: murmurhash<1.1.0,>=0.28.0 in /usr/local/lib/python3.12/dist-packages (from spacy) (1.0.13)\n",
            "Requirement already satisfied: cymem<2.1.0,>=2.0.2 in /usr/local/lib/python3.12/dist-packages (from spacy) (2.0.11)\n",
            "Requirement already satisfied: preshed<3.1.0,>=3.0.2 in /usr/local/lib/python3.12/dist-packages (from spacy) (3.0.10)\n",
            "Requirement already satisfied: thinc<8.4.0,>=8.3.4 in /usr/local/lib/python3.12/dist-packages (from spacy) (8.3.6)\n",
            "Requirement already satisfied: wasabi<1.2.0,>=0.9.1 in /usr/local/lib/python3.12/dist-packages (from spacy) (1.1.3)\n",
            "Requirement already satisfied: srsly<3.0.0,>=2.4.3 in /usr/local/lib/python3.12/dist-packages (from spacy) (2.5.1)\n",
            "Requirement already satisfied: catalogue<2.1.0,>=2.0.6 in /usr/local/lib/python3.12/dist-packages (from spacy) (2.0.10)\n",
            "Requirement already satisfied: weasel<0.5.0,>=0.1.0 in /usr/local/lib/python3.12/dist-packages (from spacy) (0.4.1)\n",
            "Requirement already satisfied: typer<1.0.0,>=0.3.0 in /usr/local/lib/python3.12/dist-packages (from spacy) (0.20.0)\n",
            "Requirement already satisfied: tqdm<5.0.0,>=4.38.0 in /usr/local/lib/python3.12/dist-packages (from spacy) (4.67.1)\n",
            "Requirement already satisfied: numpy>=1.19.0 in /usr/local/lib/python3.12/dist-packages (from spacy) (2.0.2)\n",
            "Requirement already satisfied: requests<3.0.0,>=2.13.0 in /usr/local/lib/python3.12/dist-packages (from spacy) (2.32.4)\n",
            "Requirement already satisfied: pydantic!=1.8,!=1.8.1,<3.0.0,>=1.7.4 in /usr/local/lib/python3.12/dist-packages (from spacy) (2.11.10)\n",
            "Requirement already satisfied: jinja2 in /usr/local/lib/python3.12/dist-packages (from spacy) (3.1.6)\n",
            "Requirement already satisfied: setuptools in /usr/local/lib/python3.12/dist-packages (from spacy) (75.2.0)\n",
            "Requirement already satisfied: packaging>=20.0 in /usr/local/lib/python3.12/dist-packages (from spacy) (25.0)\n",
            "Requirement already satisfied: langcodes<4.0.0,>=3.2.0 in /usr/local/lib/python3.12/dist-packages (from spacy) (3.5.0)\n",
            "Requirement already satisfied: language-data>=1.2 in /usr/local/lib/python3.12/dist-packages (from langcodes<4.0.0,>=3.2.0->spacy) (1.3.0)\n",
            "Requirement already satisfied: annotated-types>=0.6.0 in /usr/local/lib/python3.12/dist-packages (from pydantic!=1.8,!=1.8.1,<3.0.0,>=1.7.4->spacy) (0.7.0)\n",
            "Requirement already satisfied: pydantic-core==2.33.2 in /usr/local/lib/python3.12/dist-packages (from pydantic!=1.8,!=1.8.1,<3.0.0,>=1.7.4->spacy) (2.33.2)\n",
            "Requirement already satisfied: typing-extensions>=4.12.2 in /usr/local/lib/python3.12/dist-packages (from pydantic!=1.8,!=1.8.1,<3.0.0,>=1.7.4->spacy) (4.15.0)\n",
            "Requirement already satisfied: typing-inspection>=0.4.0 in /usr/local/lib/python3.12/dist-packages (from pydantic!=1.8,!=1.8.1,<3.0.0,>=1.7.4->spacy) (0.4.2)\n",
            "Requirement already satisfied: charset_normalizer<4,>=2 in /usr/local/lib/python3.12/dist-packages (from requests<3.0.0,>=2.13.0->spacy) (3.4.4)\n",
            "Requirement already satisfied: idna<4,>=2.5 in /usr/local/lib/python3.12/dist-packages (from requests<3.0.0,>=2.13.0->spacy) (3.11)\n",
            "Requirement already satisfied: urllib3<3,>=1.21.1 in /usr/local/lib/python3.12/dist-packages (from requests<3.0.0,>=2.13.0->spacy) (2.5.0)\n",
            "Requirement already satisfied: certifi>=2017.4.17 in /usr/local/lib/python3.12/dist-packages (from requests<3.0.0,>=2.13.0->spacy) (2025.10.5)\n",
            "Requirement already satisfied: blis<1.4.0,>=1.3.0 in /usr/local/lib/python3.12/dist-packages (from thinc<8.4.0,>=8.3.4->spacy) (1.3.0)\n",
            "Requirement already satisfied: confection<1.0.0,>=0.0.1 in /usr/local/lib/python3.12/dist-packages (from thinc<8.4.0,>=8.3.4->spacy) (0.1.5)\n",
            "Requirement already satisfied: click>=8.0.0 in /usr/local/lib/python3.12/dist-packages (from typer<1.0.0,>=0.3.0->spacy) (8.3.0)\n",
            "Requirement already satisfied: shellingham>=1.3.0 in /usr/local/lib/python3.12/dist-packages (from typer<1.0.0,>=0.3.0->spacy) (1.5.4)\n",
            "Requirement already satisfied: rich>=10.11.0 in /usr/local/lib/python3.12/dist-packages (from typer<1.0.0,>=0.3.0->spacy) (13.9.4)\n",
            "Requirement already satisfied: cloudpathlib<1.0.0,>=0.7.0 in /usr/local/lib/python3.12/dist-packages (from weasel<0.5.0,>=0.1.0->spacy) (0.23.0)\n",
            "Requirement already satisfied: smart-open<8.0.0,>=5.2.1 in /usr/local/lib/python3.12/dist-packages (from weasel<0.5.0,>=0.1.0->spacy) (7.4.0)\n",
            "Requirement already satisfied: MarkupSafe>=2.0 in /usr/local/lib/python3.12/dist-packages (from jinja2->spacy) (3.0.3)\n",
            "Requirement already satisfied: marisa-trie>=1.1.0 in /usr/local/lib/python3.12/dist-packages (from language-data>=1.2->langcodes<4.0.0,>=3.2.0->spacy) (1.3.1)\n",
            "Requirement already satisfied: markdown-it-py>=2.2.0 in /usr/local/lib/python3.12/dist-packages (from rich>=10.11.0->typer<1.0.0,>=0.3.0->spacy) (4.0.0)\n",
            "Requirement already satisfied: pygments<3.0.0,>=2.13.0 in /usr/local/lib/python3.12/dist-packages (from rich>=10.11.0->typer<1.0.0,>=0.3.0->spacy) (2.19.2)\n",
            "Requirement already satisfied: wrapt in /usr/local/lib/python3.12/dist-packages (from smart-open<8.0.0,>=5.2.1->weasel<0.5.0,>=0.1.0->spacy) (2.0.0)\n",
            "Requirement already satisfied: mdurl~=0.1 in /usr/local/lib/python3.12/dist-packages (from markdown-it-py>=2.2.0->rich>=10.11.0->typer<1.0.0,>=0.3.0->spacy) (0.1.2)\n",
            "Collecting pt-core-news-sm==3.8.0\n",
            "  Downloading https://github.com/explosion/spacy-models/releases/download/pt_core_news_sm-3.8.0/pt_core_news_sm-3.8.0-py3-none-any.whl (13.0 MB)\n",
            "\u001b[2K     \u001b[90m━━━━━━━━━━━━━━━━━━━━━━━━━━━━━━━━━━━━━━━━\u001b[0m \u001b[32m13.0/13.0 MB\u001b[0m \u001b[31m37.0 MB/s\u001b[0m eta \u001b[36m0:00:00\u001b[0m\n",
            "\u001b[?25hInstalling collected packages: pt-core-news-sm\n",
            "Successfully installed pt-core-news-sm-3.8.0\n",
            "\u001b[38;5;2m✔ Download and installation successful\u001b[0m\n",
            "You can now load the package via spacy.load('pt_core_news_sm')\n",
            "\u001b[38;5;3m⚠ Restart to reload dependencies\u001b[0m\n",
            "If you are in a Jupyter or Colab notebook, you may need to restart Python in\n",
            "order to load all the package's dependencies. You can do this by selecting the\n",
            "'Restart kernel' or 'Restart runtime' option.\n"
          ]
        }
      ],
      "source": [
        "!pip install --upgrade spacy\n",
        "!python -m spacy download pt_core_news_sm"
      ]
    },
    {
      "cell_type": "code",
      "source": [
        "import spacy"
      ],
      "metadata": {
        "id": "fyYuwfQVL6nv"
      },
      "execution_count": 2,
      "outputs": []
    },
    {
      "cell_type": "code",
      "source": [
        "pln = spacy.load('pt_core_news_sm')\n",
        "\n",
        "# texto extraído da Wikipedia\n",
        "texto = '''A Nintendo anunciou o desenvolvimento do jogo com um\n",
        "teaser trailer na Nintendo Direct da E3 2019. Em fevereiro de 2021,\n",
        "o produtor da série Zelda, Eiji Aonuma, afirmou que mais informações\n",
        "sobre a sequência seriam divulgadas no final daquele ano. Na\n",
        "Nintendo Direct da E3 2021, a Nintendo mostrou um trailer revelando\n",
        "a jogabilidade e a história, e anunciou a data de lançamento para\n",
        "2022. Quando o trailer não apresentou um título oficial ou um\n",
        "close-up do rosto do protagonista, várias teorias de fãs surgiram\n",
        "sobre o enredo do próximo jogo.'''"
      ],
      "metadata": {
        "id": "z8gWrFMVL-eF"
      },
      "execution_count": 3,
      "outputs": []
    },
    {
      "cell_type": "markdown",
      "source": [
        "# Questão 1\n",
        "\n",
        "Altere a função a seguir para retornar as entidades nomeadas\n",
        "no vetor resultado. Utilize o método append para adicionar"
      ],
      "metadata": {
        "id": "t9I6Ww8eQR9z"
      }
    },
    {
      "cell_type": "code",
      "source": [
        "\n",
        "def retornar_entidades(texto):\n",
        "    resultado = []\n",
        "    doc = pln(texto)\n",
        "\n",
        "    for ent in doc.ents:\n",
        "      resultado.append(ent.text)\n",
        "    return resultado\n",
        "\n",
        "\n",
        "print(retornar_entidades(texto))"
      ],
      "metadata": {
        "colab": {
          "base_uri": "https://localhost:8080/"
        },
        "id": "zknCt4wxNT8J",
        "outputId": "7067651d-c5de-4f54-b99d-a6a77047f119"
      },
      "execution_count": 12,
      "outputs": [
        {
          "output_type": "stream",
          "name": "stdout",
          "text": [
            "['Nintendo', 'Nintendo Direct da E3', 'Zelda', 'Eiji Aonuma', 'Nintendo Direct da E3', 'Nintendo']\n"
          ]
        }
      ]
    },
    {
      "cell_type": "markdown",
      "source": [
        "# Questão 2\n",
        "\n",
        "Altere a função a seguir para retornar os lemas do texto\n",
        "no vetor resultado. Utilize o método append para adicionar"
      ],
      "metadata": {
        "id": "jxN1h1qbQPNR"
      }
    },
    {
      "cell_type": "code",
      "source": [
        "def retornar_lemas(texto):\n",
        "    resultado = []\n",
        "    doc = pln(texto)\n",
        "\n",
        "    for token in doc:\n",
        "      resultado.append(token.lemma_)\n",
        "    return resultado\n",
        "\n",
        "print(retornar_lemas(texto))"
      ],
      "metadata": {
        "colab": {
          "base_uri": "https://localhost:8080/"
        },
        "id": "D8s8cNtMMt6R",
        "outputId": "f05c2359-d7d4-4d20-d78e-dcb652feccc9"
      },
      "execution_count": 5,
      "outputs": [
        {
          "output_type": "stream",
          "name": "stdout",
          "text": [
            "['o', 'Nintendo', 'anunciar', 'o', 'desenvolvimento', 'de o', 'jogo', 'com', 'um', '\\n', 'teaser', 'trailer', 'em o', 'Nintendo', 'Direct', 'de o', 'E3', '2019', '.', 'em', 'fevereiro', 'de', '2021', ',', '\\n', 'o', 'produtor', 'de o', 'série', 'Zelda', ',', 'Eiji', 'Aonuma', ',', 'afirmar', 'que', 'mais', 'informação', '\\n', 'sobre', 'o', 'sequência', 'ser', 'divulgar', 'em o', 'final', 'de aquele', 'ano', '.', 'em o', '\\n', 'Nintendo', 'Direct', 'de o', 'E3', '2021', ',', 'o', 'Nintendo', 'mostrar', 'um', 'trailer', 'revelar', '\\n', 'o', 'jogabilidade', 'e', 'o', 'história', ',', 'e', 'anunciar', 'o', 'data', 'de', 'lançamento', 'para', '\\n', '2022', '.', 'quando', 'o', 'trailer', 'não', 'apresentar', 'um', 'título', 'oficial', 'ou', 'um', '\\n', 'close-up', 'de o', 'rosto', 'de o', 'protagonista', ',', 'várias', 'teoria', 'de', 'fã', 'surgir', '\\n', 'sobre', 'o', 'enredo', 'de o', 'próximo', 'jogo', '.']\n"
          ]
        }
      ]
    },
    {
      "cell_type": "markdown",
      "source": [
        "# Questão 3\n",
        "\n",
        "Altere a função a seguir para retornar as stopwords do texto\n",
        "no vetor resultado. Utilize o método append para adicionar"
      ],
      "metadata": {
        "id": "_A_RcjaiQNFx"
      }
    },
    {
      "cell_type": "code",
      "source": [
        "def retornar_stopwords(texto):\n",
        "    resultado = []\n",
        "    doc = pln(texto)\n",
        "\n",
        "    for token in doc:\n",
        "      if token.is_stop:\n",
        "        resultado.append(token.text)\n",
        "    return resultado\n",
        "\n",
        "print(retornar_stopwords(texto))\n"
      ],
      "metadata": {
        "colab": {
          "base_uri": "https://localhost:8080/"
        },
        "id": "AkzhXollNwtO",
        "outputId": "4b94bc53-d353-4c62-ffb7-f592dad92ea2"
      },
      "execution_count": 7,
      "outputs": [
        {
          "output_type": "stream",
          "name": "stdout",
          "text": [
            "['A', 'o', 'do', 'com', 'um', 'na', 'da', 'Em', 'de', 'o', 'da', 'que', 'mais', 'sobre', 'a', 'no', 'final', 'daquele', 'Na', 'da', 'a', 'um', 'a', 'e', 'a', 'e', 'a', 'de', 'para', 'Quando', 'o', 'não', 'um', 'ou', 'um', 'do', 'do', 'de', 'sobre', 'o', 'do', 'próximo']\n"
          ]
        }
      ]
    },
    {
      "cell_type": "markdown",
      "source": [
        "# Questão 4\n",
        "\n",
        "Complete a função a seguir para contar o número de stop words do texto, seguindo a definição da função a seguir. Nessas questões com o Code Runner, apenas utilize as classes e objetos passados como parâmetro para a função passada.\n",
        "\n",
        "Apenas altere o código dentro da função e leia os comentários."
      ],
      "metadata": {
        "id": "atrsmQzwP-q0"
      }
    },
    {
      "cell_type": "code",
      "source": [
        "def count_stopwords (pln, text):\n",
        "    doc = pln(text) # carregando o objeto documento com Spacy\n",
        "    result = 0\n",
        "\n",
        "    # implemente seu código nas próximas linhas\n",
        "    #  e retorne o número de stopwords.\n",
        "    for token in doc:\n",
        "        if token.is_stop:\n",
        "            result+=1\n",
        "\n",
        "\n",
        "    return result\n",
        "\n",
        "print(count_stopwords(pln, texto))\n"
      ],
      "metadata": {
        "colab": {
          "base_uri": "https://localhost:8080/"
        },
        "id": "V1z3E4auOM1_",
        "outputId": "7b1fe1cb-6d50-4d25-cf42-3e0ae16d8681"
      },
      "execution_count": 11,
      "outputs": [
        {
          "output_type": "stream",
          "name": "stdout",
          "text": [
            "42\n"
          ]
        }
      ]
    }
  ]
}
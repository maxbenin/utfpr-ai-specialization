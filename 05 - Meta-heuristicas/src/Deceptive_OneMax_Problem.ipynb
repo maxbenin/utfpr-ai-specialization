{
 "cells": [
  {
   "cell_type": "markdown",
   "metadata": {},
   "source": [
    "# Problema OneMax Armadilha (deceptive 4-bit Trap)\n",
    "\n",
    "* A aptidão de uma solução é o número de 1s que ela contém, a menos que sejam todos 0s, caso em que sua aptidão é o tamnho da solução + 1;  \n",
    "* Chamado de problema armadilha, uma vez que o algoritmo é recompensado gradativamente para cada 1 que adiciona ao problema, mas a melhor solução consiste em todos os 0s. \n",
    "    * Exemplo:\n",
    "    * 1001 (soma == 2)\n",
    "    * 0111 (soma == 3)\n",
    "    * 1111 (soma == 4)\n",
    "    * 0000 (soma == 5)"
   ]
  },
  {
   "cell_type": "markdown",
   "metadata": {},
   "source": [
    "### Instalçao do framework"
   ]
  },
  {
   "cell_type": "code",
   "execution_count": 5,
   "metadata": {
    "colab": {
     "base_uri": "https://localhost:8080/"
    },
    "id": "JNVoTIBnFONn",
    "outputId": "630ea967-94cf-4885-dff9-b746af575031"
   },
   "outputs": [
    {
     "name": "stdout",
     "output_type": "stream",
     "text": [
      "Requirement already satisfied: mlrose in /home/danilo/miniconda3/envs/IA/lib/python3.10/site-packages (1.3.0)\r\n",
      "Requirement already satisfied: numpy in /home/danilo/miniconda3/envs/IA/lib/python3.10/site-packages (from mlrose) (1.23.5)\r\n",
      "Requirement already satisfied: scipy in /home/danilo/miniconda3/envs/IA/lib/python3.10/site-packages (from mlrose) (1.11.2)\r\n",
      "Requirement already satisfied: sklearn in /home/danilo/miniconda3/envs/IA/lib/python3.10/site-packages (from mlrose) (0.0.post10)\r\n"
     ]
    }
   ],
   "source": [
    "!pip install mlrose"
   ]
  },
  {
   "cell_type": "code",
   "execution_count": 6,
   "metadata": {
    "id": "RDMMYF51I3Tn"
   },
   "outputs": [],
   "source": [
    "# Configuração inicial\n",
    "import six\n",
    "import sys\n",
    "sys.modules['sklearn.externals.six'] = six\n",
    "import mlrose"
   ]
  },
  {
   "cell_type": "markdown",
   "metadata": {
    "id": "z12zZlrNI1L8"
   },
   "source": [
    "### Definição da função fitness"
   ]
  },
  {
   "cell_type": "code",
   "execution_count": 7,
   "metadata": {},
   "outputs": [],
   "source": [
    "def trap_fitness_function(solucao):\n",
    "    \"\"\"A soma dos valores 0s da solucao (list) e\n",
    "       tamanho da cadeia de bits igual a 4.\n",
    "    \"\"\"\n",
    "\n",
    "    soma = 0\n",
    "\n",
    "    for bit in solucao:\n",
    "        soma += bit\n",
    "\n",
    "    if soma == 0:\n",
    "        return 5\n",
    "    else:\n",
    "        return soma"
   ]
  },
  {
   "cell_type": "markdown",
   "metadata": {},
   "source": [
    "### Construção do problema no mlrose"
   ]
  },
  {
   "cell_type": "code",
   "execution_count": 8,
   "metadata": {
    "id": "kzRooBieJhax"
   },
   "outputs": [],
   "source": [
    "fitness = mlrose.CustomFitness(trap_fitness_function)"
   ]
  },
  {
   "cell_type": "code",
   "execution_count": 9,
   "metadata": {
    "id": "R_v7bi5GJvwk"
   },
   "outputs": [],
   "source": [
    "problema = mlrose.DiscreteOpt(length = 4, fitness_fn = fitness,\n",
    "                             maximize = True, max_val = 2)"
   ]
  },
  {
   "cell_type": "markdown",
   "metadata": {
    "id": "TfNpB5slN7Cp"
   },
   "source": [
    "### Algoritmo Hill climbing"
   ]
  },
  {
   "cell_type": "code",
   "execution_count": 18,
   "metadata": {
    "colab": {
     "base_uri": "https://localhost:8080/"
    },
    "id": "l4eyqdAbOS0p",
    "outputId": "207e4172-34d1-430b-e220-78140b21e544"
   },
   "outputs": [
    {
     "data": {
      "text/plain": [
       "(array([0, 0, 0, 0]), 5.0)"
      ]
     },
     "execution_count": 18,
     "metadata": {},
     "output_type": "execute_result"
    }
   ],
   "source": [
    "solucao_HC, melhor_custo = mlrose.hill_climb(problema)\n",
    "solucao_HC, melhor_custo"
   ]
  },
  {
   "cell_type": "markdown",
   "metadata": {
    "id": "ZU8cD5k2N8wO"
   },
   "source": [
    "### Algoritmo Simulated annealing"
   ]
  },
  {
   "cell_type": "code",
   "execution_count": 31,
   "metadata": {
    "colab": {
     "base_uri": "https://localhost:8080/"
    },
    "id": "L9KjmUcMKGh_",
    "outputId": "3739e1aa-e815-486f-a65a-cc150930e995"
   },
   "outputs": [
    {
     "data": {
      "text/plain": [
       "(array([0, 0, 0, 0]), 5.0)"
      ]
     },
     "execution_count": 31,
     "metadata": {},
     "output_type": "execute_result"
    }
   ],
   "source": [
    "solucao_SA, melhor_custo = mlrose.simulated_annealing(problema)\n",
    "solucao_SA, melhor_custo"
   ]
  }
 ],
 "metadata": {
  "colab": {
   "provenance": []
  },
  "kernelspec": {
   "display_name": "Python 3 (ipykernel)",
   "language": "python",
   "name": "python3"
  },
  "language_info": {
   "codemirror_mode": {
    "name": "ipython",
    "version": 3
   },
   "file_extension": ".py",
   "mimetype": "text/x-python",
   "name": "python",
   "nbconvert_exporter": "python",
   "pygments_lexer": "ipython3",
   "version": "3.10.12"
  }
 },
 "nbformat": 4,
 "nbformat_minor": 1
}

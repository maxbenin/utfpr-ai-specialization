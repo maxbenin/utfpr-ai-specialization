{
  "nbformat": 4,
  "nbformat_minor": 0,
  "metadata": {
    "colab": {
      "provenance": [],
      "gpuType": "T4"
    },
    "kernelspec": {
      "name": "python3",
      "display_name": "Python 3"
    },
    "language_info": {
      "name": "python"
    },
    "accelerator": "GPU"
  },
  "cells": [
    {
      "cell_type": "markdown",
      "source": [
        "Neste exemplo são apresentados a criação e o treinamento de uma rede neural para análise de sentimanto utilizando Transformer. O objetivo é classificar revisões de filmes do IMDb como positivas ou negativas.\n",
        "\n",
        "Esta implementação não possui um decoder explícito, pois isso não é necessário para a tarefa de classificação de texto (onde a saída é uma classe e não uma sequência de elementos como no problema de tradução automática ou geração de texto)."
      ],
      "metadata": {
        "id": "v5KzfJN09iIw"
      }
    },
    {
      "cell_type": "markdown",
      "source": [
        "##**1 - Importando bibliotecas e módulos**"
      ],
      "metadata": {
        "id": "19nNlNc1DRc7"
      }
    },
    {
      "cell_type": "code",
      "execution_count": null,
      "metadata": {
        "id": "weUwnTREtEKb"
      },
      "outputs": [],
      "source": [
        "import keras\n",
        "from keras import ops, layers, utils, datasets, models\n"
      ]
    },
    {
      "cell_type": "markdown",
      "source": [
        "##**2 - Carregando o dataset e separando os dados**"
      ],
      "metadata": {
        "id": "EL_NcBAwDd-T"
      }
    },
    {
      "cell_type": "code",
      "source": [
        "max_features = 20000\n",
        "(X_train, Y_train), (X_val, Y_val) = datasets.imdb.load_data(number_words=max_features)\n",
        "maxlen = 100\n",
        "X_train = utils.pad_sequences(X_train, maxlen = maxlen)\n",
        "X_val = utils.pad_sequences(X_val, maxlen=maxlen)"
      ],
      "metadata": {
        "id": "iprTv-pYqKRs"
      },
      "execution_count": null,
      "outputs": []
    },
    {
      "cell_type": "markdown",
      "source": [
        "##**3 - Tratando as Entradas**"
      ],
      "metadata": {
        "id": "jFr1cJ6sDvpL"
      }
    },
    {
      "cell_type": "code",
      "source": [
        "inputs = layers.Input(shape=(maxlen,))\n",
        "emb_dims = 50\n",
        "token_emb = layers.Embedding(input_dim=max_features, output_dim=emb_dims)(inputs)\n",
        "positions = ops.arange(start=0, stop=maxlen, step=1)\n",
        "pos_emb = layers.Embedding(input_dim=maxlen, output_dim=emb_dims)(positions)\n",
        "x = token_emb + pos_emb"
      ],
      "metadata": {
        "id": "E1065Tl6-sPt"
      },
      "execution_count": null,
      "outputs": []
    },
    {
      "cell_type": "markdown",
      "source": [
        "##**4 - Camada de Auto-Atenção (Self-Attention)**"
      ],
      "metadata": {
        "id": "Zbvi61pbDEmf"
      }
    },
    {
      "cell_type": "code",
      "source": [
        "num_heads = 5\n",
        "atencao = layers.MultiHeadAttention(num_heads = num_heads, key_dim = emb_dims)(x,x)\n",
        "atencao_output = layers.Dropout(0.1)(atencao)\n",
        "saida1 = layers.LayerNormalization(epsilon=1e-6)(x + atencao_output)"
      ],
      "metadata": {
        "id": "H7VbvQxPEKw1"
      },
      "execution_count": null,
      "outputs": []
    },
    {
      "cell_type": "markdown",
      "source": [
        "##**5 - Camada Feedforward**"
      ],
      "metadata": {
        "id": "vTO-AwvXKQSn"
      }
    },
    {
      "cell_type": "code",
      "source": [
        "num_neuronios = 32\n",
        "feed_output = layers.Dense(num_neuronios, activation = 'relu')(saida1)\n",
        "feed_output = layers.Dense(emb_dims)(feed_output)\n",
        "feed_output = layers.Dropout(0.1)(feed_output)\n",
        "x = layers.LayerNormalization(epsilon=1e-6)(saida1 + feed_output)\n",
        "x = layers.GlobalAveragePooling1D()(x)\n",
        "x = layers.Dropout(0.1)(x)\n",
        "x = layers.Dense(20, activation='relu')(x)\n",
        "x = layers.Dropout(0.1)(x)\n",
        "outputs = layers.Dense(2, activation = 'softmax')(x)"
      ],
      "metadata": {
        "id": "wYI2cVQ1PdNm"
      },
      "execution_count": null,
      "outputs": []
    },
    {
      "cell_type": "markdown",
      "source": [
        "##**6 - Criando e compilando o modelo**"
      ],
      "metadata": {
        "id": "hnIDiqJWR_9s"
      }
    },
    {
      "cell_type": "code",
      "source": [
        "model = models.Model(inputs = inputs, outputs = outputs)\n",
        "model.compile(optimizer='adam', loss='sparse_categorical_crossentropy', metrics=['accuracy'])\n",
        "model.fit(X_train, Y_train, batch_size=32, epochs=2, validation_data = (X_val, Y_val))"
      ],
      "metadata": {
        "colab": {
          "base_uri": "https://localhost:8080/"
        },
        "id": "QEZu5GkQSvaS",
        "outputId": "ba98f301-3194-4d4a-dead-20e7c03f1c1e"
      },
      "execution_count": null,
      "outputs": [
        {
          "output_type": "stream",
          "name": "stdout",
          "text": [
            "Epoch 1/2\n",
            "\u001b[1m782/782\u001b[0m \u001b[32m━━━━━━━━━━━━━━━━━━━━\u001b[0m\u001b[37m\u001b[0m \u001b[1m21s\u001b[0m 15ms/step - accuracy: 0.7332 - loss: 0.5071 - val_accuracy: 0.8497 - val_loss: 0.3426\n",
            "Epoch 2/2\n",
            "\u001b[1m782/782\u001b[0m \u001b[32m━━━━━━━━━━━━━━━━━━━━\u001b[0m\u001b[37m\u001b[0m \u001b[1m9s\u001b[0m 8ms/step - accuracy: 0.9068 - loss: 0.2349 - val_accuracy: 0.8429 - val_loss: 0.4119\n"
          ]
        },
        {
          "output_type": "execute_result",
          "data": {
            "text/plain": [
              "<keras.src.callbacks.history.History at 0x784ba34fb910>"
            ]
          },
          "metadata": {},
          "execution_count": 84
        }
      ]
    },
    {
      "cell_type": "markdown",
      "source": [
        "##**7 - Testando o Modelo**"
      ],
      "metadata": {
        "id": "3yW6a_pFUDD7"
      }
    },
    {
      "cell_type": "code",
      "source": [
        "indice_da_palavra = datasets.imdb.get_word_index()\n",
        "\n",
        "def text_to_sequence(text):\n",
        "  palavras = text.lower().split()\n",
        "  sequencia = []\n",
        "  for palavra in palavras:\n",
        "    if palavra in indice_da_palavra and indice_da_palavra[palavra] < max_features:\n",
        "      sequencia.append(indice_da_palavra[palavra]+3)\n",
        "  return utils.pad_sequences([sequencia], maxlen=maxlen)\n",
        "\n",
        "def classify_review(review):\n",
        "  sequencia = text_to_sequence(resenha)\n",
        "  prediction = model.predict(sequencia)\n",
        "  print(f' Predição da rede: {prediction[0][0]:.5f}')\n",
        "  return 'Positiva' if prediction[0][0]> 0.5 else 'Negativa'\n",
        "\n",
        "resenha = 'This movie is very bad and boring. I consider it horrible.'\n",
        "classification = classify_review(resenha)\n",
        "print(f'A resenha é classificada como: {classification}')\n"
      ],
      "metadata": {
        "colab": {
          "base_uri": "https://localhost:8080/"
        },
        "id": "49Uxj1R4UZHt",
        "outputId": "ce600b83-a266-4576-c1f5-9cd1feab9146"
      },
      "execution_count": null,
      "outputs": [
        {
          "output_type": "stream",
          "name": "stdout",
          "text": [
            "\u001b[1m1/1\u001b[0m \u001b[32m━━━━━━━━━━━━━━━━━━━━\u001b[0m\u001b[37m\u001b[0m \u001b[1m0s\u001b[0m 31ms/step\n",
            " Predição da rede: 0.97995\n",
            "A resenha é classificada como: Positiva\n"
          ]
        }
      ]
    }
  ]
}
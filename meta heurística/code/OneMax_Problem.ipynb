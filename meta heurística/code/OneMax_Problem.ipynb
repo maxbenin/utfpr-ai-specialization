{
 "cells": [
  {
   "cell_type": "markdown",
   "metadata": {
    "id": "m4fZzXnRFW0i"
   },
   "source": [
    "# Problema OneMax\n",
    "\n",
    "* Busca-se maximizar o número de \"1s\" durante a busca; \n",
    "* Inicialmente as soluções são geradas aleatoriamente por uma lista de bits 0 e 1;\n",
    "* O objetivo é gerar a solução com a maior quantidade de “1”\n",
    "    * Exemplo:\n",
    "    * 10010 (soma == 2)\n",
    "    * 01110 (soma == 3)\n",
    "    * 11111 (soma == 5)"
   ]
  },
  {
   "cell_type": "markdown",
   "metadata": {},
   "source": [
    "#### Instalação do framework"
   ]
  },
  {
   "cell_type": "code",
   "execution_count": 10,
   "metadata": {
    "colab": {
     "base_uri": "https://localhost:8080/"
    },
    "id": "JNVoTIBnFONn",
    "outputId": "630ea967-94cf-4885-dff9-b746af575031"
   },
   "outputs": [
    {
     "name": "stdout",
     "output_type": "stream",
     "text": [
      "Requirement already satisfied: mlrose in /home/danilo/miniconda3/envs/IA/lib/python3.10/site-packages (1.3.0)\r\n",
      "Requirement already satisfied: numpy in /home/danilo/miniconda3/envs/IA/lib/python3.10/site-packages (from mlrose) (1.23.5)\r\n",
      "Requirement already satisfied: scipy in /home/danilo/miniconda3/envs/IA/lib/python3.10/site-packages (from mlrose) (1.11.2)\r\n",
      "Requirement already satisfied: sklearn in /home/danilo/miniconda3/envs/IA/lib/python3.10/site-packages (from mlrose) (0.0.post10)\r\n"
     ]
    }
   ],
   "source": [
    "!pip install mlrose"
   ]
  },
  {
   "cell_type": "code",
   "execution_count": 1,
   "metadata": {
    "id": "RDMMYF51I3Tn"
   },
   "outputs": [],
   "source": [
    "# Configurações para execução do framework\n",
    "import six\n",
    "import sys\n",
    "sys.modules['sklearn.externals.six'] = six\n",
    "import mlrose"
   ]
  },
  {
   "cell_type": "markdown",
   "metadata": {
    "id": "z12zZlrNI1L8"
   },
   "source": [
    "### Construção da função fitness"
   ]
  },
  {
   "cell_type": "code",
   "execution_count": 2,
   "metadata": {
    "id": "1N06OhCe5AN-"
   },
   "outputs": [],
   "source": [
    "def fitness_function(solucao):\n",
    "    \"\"\"A soma dos valores 1s da solucao (list).\"\"\"\n",
    "\n",
    "    soma = 0\n",
    "\n",
    "    for bit in solucao:\n",
    "        soma += bit\n",
    "\n",
    "    return soma"
   ]
  },
  {
   "cell_type": "markdown",
   "metadata": {},
   "source": [
    "### Construção do problema no mlrose"
   ]
  },
  {
   "cell_type": "code",
   "execution_count": 3,
   "metadata": {
    "id": "kzRooBieJhax"
   },
   "outputs": [],
   "source": [
    "fitness = mlrose.CustomFitness(fitness_function)"
   ]
  },
  {
   "cell_type": "code",
   "execution_count": 4,
   "metadata": {
    "id": "R_v7bi5GJvwk"
   },
   "outputs": [],
   "source": [
    "problema = mlrose.DiscreteOpt(length = 5, fitness_fn = fitness,\n",
    "                             maximize = True, max_val = 2)"
   ]
  },
  {
   "cell_type": "markdown",
   "metadata": {
    "id": "TfNpB5slN7Cp"
   },
   "source": [
    "### Algoritmo Hill climbing"
   ]
  },
  {
   "cell_type": "code",
   "execution_count": 15,
   "metadata": {
    "colab": {
     "base_uri": "https://localhost:8080/"
    },
    "id": "l4eyqdAbOS0p",
    "outputId": "207e4172-34d1-430b-e220-78140b21e544"
   },
   "outputs": [
    {
     "data": {
      "text/plain": [
       "(array([1, 1, 1, 1, 1]), 5.0)"
      ]
     },
     "execution_count": 15,
     "metadata": {},
     "output_type": "execute_result"
    }
   ],
   "source": [
    "solucao_HC, melhor_custo = mlrose.hill_climb(problema)\n",
    "solucao_HC, melhor_custo"
   ]
  },
  {
   "cell_type": "markdown",
   "metadata": {
    "id": "ZU8cD5k2N8wO"
   },
   "source": [
    "### Algoritmo Simulated annealing"
   ]
  },
  {
   "cell_type": "code",
   "execution_count": 16,
   "metadata": {
    "colab": {
     "base_uri": "https://localhost:8080/"
    },
    "id": "L9KjmUcMKGh_",
    "outputId": "3739e1aa-e815-486f-a65a-cc150930e995"
   },
   "outputs": [
    {
     "data": {
      "text/plain": [
       "(array([1, 1, 1, 1, 1]), 5.0)"
      ]
     },
     "execution_count": 16,
     "metadata": {},
     "output_type": "execute_result"
    }
   ],
   "source": [
    "solucao_SA, melhor_custo = mlrose.simulated_annealing(problema)\n",
    "solucao_SA, melhor_custo"
   ]
  }
 ],
 "metadata": {
  "colab": {
   "provenance": []
  },
  "kernelspec": {
   "display_name": "Python 3 (ipykernel)",
   "language": "python",
   "name": "python3"
  },
  "language_info": {
   "codemirror_mode": {
    "name": "ipython",
    "version": 3
   },
   "file_extension": ".py",
   "mimetype": "text/x-python",
   "name": "python",
   "nbconvert_exporter": "python",
   "pygments_lexer": "ipython3",
   "version": "3.10.12"
  }
 },
 "nbformat": 4,
 "nbformat_minor": 1
}
